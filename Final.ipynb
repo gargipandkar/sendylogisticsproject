{
 "cells": [
  {
   "cell_type": "markdown",
   "metadata": {},
   "source": [
    "### Import packages/libraries and read data"
   ]
  },
  {
   "cell_type": "code",
   "execution_count": 1,
   "metadata": {},
   "outputs": [],
   "source": [
    "import pandas as pd\n",
    "import seaborn as sns\n",
    "import numpy as np\n",
    "from haversine import haversine\n",
    "%matplotlib inline "
   ]
  },
  {
   "cell_type": "code",
   "execution_count": 143,
   "metadata": {},
   "outputs": [],
   "source": [
    "train = pd.read_csv(\"sendylogisticsproject/Train.csv\")\n",
    "test = pd.read_csv(\"sendylogisticsproject/Test.csv\")\n",
    "riders = pd.read_csv(\"sendylogisticsproject/Riders.csv\")"
   ]
  },
  {
   "cell_type": "code",
   "execution_count": 3,
   "metadata": {},
   "outputs": [
    {
     "data": {
      "text/plain": [
       "((21201, 29), (7068, 25), (960, 5))"
      ]
     },
     "execution_count": 3,
     "metadata": {},
     "output_type": "execute_result"
    }
   ],
   "source": [
    "train.shape, test.shape, riders.shape"
   ]
  },
  {
   "cell_type": "markdown",
   "metadata": {},
   "source": [
    "### Preprocessing"
   ]
  },
  {
   "cell_type": "code",
   "execution_count": 4,
   "metadata": {},
   "outputs": [],
   "source": [
    "def calc_coordDist(df):\n",
    "    df['Coordinate Distance (KM)'] = df.apply(lambda row: round(haversine((row['Destination Lat'], row['Destination Long']), (row['Pickup Lat'], row['Pickup Long'])),2), axis=1)\n",
    "    return df"
   ]
  },
  {
   "cell_type": "code",
   "execution_count": 5,
   "metadata": {},
   "outputs": [],
   "source": [
    "def get_hours(df):\n",
    "    df['Pickup - Time'] = pd.to_datetime(df['Pickup - Time'])\n",
    "    df['Pickup_Hour'] = df['Pickup - Time'].dt.hour\n",
    "    return df"
   ]
  },
  {
   "cell_type": "markdown",
   "metadata": {},
   "source": [
    "Calculate average speed in m/s and drop entries with outlying speeds"
   ]
  },
  {
   "cell_type": "code",
   "execution_count": 6,
   "metadata": {},
   "outputs": [],
   "source": [
    "def calc_avgSpeed(df):\n",
    "    df['Average Speed']=(df['Distance (KM)']*1000)/df['Time from Pickup to Arrival']\n",
    "    df=df[(df['Average Speed']>3) & (df['Average Speed']<19)]\n",
    "    return df"
   ]
  },
  {
   "cell_type": "code",
   "execution_count": 7,
   "metadata": {},
   "outputs": [],
   "source": [
    "def join_riderData(df):\n",
    "    combined=df.copy()\n",
    "    combined=combined.set_index('Rider Id').join(riders.set_index('Rider Id'))\n",
    "    return combined"
   ]
  },
  {
   "cell_type": "code",
   "execution_count": 8,
   "metadata": {},
   "outputs": [],
   "source": [
    "def calc_riderSpeed(df):\n",
    "    df['Rider Median Speed']=df.groupby(by='Rider Id')['Average Speed'].median()\n",
    "    df=df.reset_index()\n",
    "    return df"
   ]
  },
  {
   "cell_type": "code",
   "execution_count": 9,
   "metadata": {},
   "outputs": [],
   "source": [
    "def calc_weeklyOrders(df):\n",
    "    df['Rider Average Weekly Orders'] = round(df['No_Of_Orders']*7/df['Age'])\n",
    "    return df"
   ]
  },
  {
   "cell_type": "markdown",
   "metadata": {},
   "source": [
    "Replace average rating for new riders (few orders or few reviews) to balance column"
   ]
  },
  {
   "cell_type": "code",
   "execution_count": 10,
   "metadata": {},
   "outputs": [],
   "source": [
    "def balance_newriderRating(df):\n",
    "    newrider_reviews=df['No_of_Ratings'].quantile(0.25)\n",
    "    newrider_orders=df['No_Of_Orders'].quantile(0.25)\n",
    "    newrider_rating=df[(df['No_of_Ratings']<newrider_reviews)&(df['No_Of_Orders']<newrider_orders)]['Average_Rating'].quantile(0.25)\n",
    "    \n",
    "    newrider_rating=df[(df['Average_Rating']<newrider_rating)&(df['No_of_Ratings']<newrider_reviews)&(df['No_Of_Orders']<newrider_orders)]['Average_Rating'].quantile(0.25)\n",
    "    \n",
    "    df.loc[(df['Average_Rating']<newrider_rating)&(df['No_of_Ratings']<newrider_reviews)&(df['No_Of_Orders']<newrider_orders) , 'Average_Rating'] = newrider_rating \n",
    "    return df"
   ]
  },
  {
   "cell_type": "markdown",
   "metadata": {},
   "source": [
    "### Model input "
   ]
  },
  {
   "cell_type": "code",
   "execution_count": 11,
   "metadata": {},
   "outputs": [],
   "source": [
    "from sklearn.linear_model import LinearRegression, ElasticNet, Lasso, Ridge \n",
    "from sklearn.ensemble import AdaBoostRegressor, BaggingRegressor\n",
    "from mlxtend.regressor import StackingRegressor\n",
    "from sklearn.tree import ExtraTreeRegressor, DecisionTreeRegressor\n",
    "\n",
    "from sklearn.model_selection import train_test_split, RandomizedSearchCV\n",
    "from sklearn.preprocessing import OneHotEncoder \n",
    "toOHE=OneHotEncoder\n",
    "\n",
    "from sklearn import metrics\n",
    "from sklearn.model_selection import cross_validate"
   ]
  },
  {
   "cell_type": "code",
   "execution_count": 12,
   "metadata": {},
   "outputs": [],
   "source": [
    "TRAIN=calc_coordDist(train)\n",
    "TRAIN=get_hours(TRAIN)\n",
    "TRAIN=calc_avgSpeed(TRAIN)\n",
    "TRAIN=join_riderData(TRAIN)\n",
    "TRAIN=calc_riderSpeed(TRAIN)\n",
    "TRAIN=calc_weeklyOrders(TRAIN)\n",
    "TRAIN=balance_newriderRating(TRAIN)"
   ]
  },
  {
   "cell_type": "code",
   "execution_count": 13,
   "metadata": {},
   "outputs": [],
   "source": [
    "def get_features(df):\n",
    "    X=df.select_dtypes(np.number).fillna(0)\n",
    "    X=X.drop(columns=['Precipitation in millimeters', 'No_Of_Orders', 'Age', 'No_of_Ratings'])\n",
    "    X.loc[X['Temperature']==0, 'Temperature']=X['Temperature'].mean()\n",
    "\n",
    "    num_data=X[['Pickup - Day of Month', 'Temperature', 'Pickup_Hour',  \n",
    "            'Distance (KM)', 'Coordinate Distance (KM)',\n",
    "            'Pickup Lat', 'Pickup Long', 'Destination Lat', 'Destination Long', \n",
    "            'Rider Median Speed', 'Rider Average Weekly Orders', 'Average_Rating']]\n",
    "    \n",
    "    cat_data=X['Pickup - Weekday (Mo = 1)']\n",
    "    \n",
    "    X=pd.concat([num_data, cat_data], axis=1)\n",
    "    \n",
    "    return X"
   ]
  },
  {
   "cell_type": "markdown",
   "metadata": {},
   "source": [
    "### Ensemble"
   ]
  },
  {
   "cell_type": "code",
   "execution_count": 14,
   "metadata": {},
   "outputs": [],
   "source": [
    "lrmodel = LinearRegression()"
   ]
  },
  {
   "cell_type": "code",
   "execution_count": 98,
   "metadata": {},
   "outputs": [],
   "source": [
    "treemodel = DecisionTreeRegressor(min_impurity_split=0.15, max_depth=6, random_state=42)"
   ]
  },
  {
   "cell_type": "code",
   "execution_count": 102,
   "metadata": {},
   "outputs": [],
   "source": [
    "xrtmodel = BaggingRegressor(n_estimators=100, base_estimator=ExtraTreeRegressor(min_impurity_split= 0.15, max_depth= 7), random_state=42)"
   ]
  },
  {
   "cell_type": "code",
   "execution_count": 17,
   "metadata": {},
   "outputs": [],
   "source": [
    "abmodel = AdaBoostRegressor(n_estimators=100, random_state=42)"
   ]
  },
  {
   "cell_type": "code",
   "execution_count": 18,
   "metadata": {},
   "outputs": [],
   "source": [
    "lassomodel = Lasso(random_state=42)"
   ]
  },
  {
   "cell_type": "code",
   "execution_count": 19,
   "metadata": {},
   "outputs": [],
   "source": [
    "ridgemodel = Ridge(random_state=42)"
   ]
  },
  {
   "cell_type": "code",
   "execution_count": 20,
   "metadata": {},
   "outputs": [],
   "source": [
    "enmodel = ElasticNet(random_state=42)"
   ]
  },
  {
   "cell_type": "markdown",
   "metadata": {},
   "source": [
    "### Cross-validation and model selection"
   ]
  },
  {
   "cell_type": "code",
   "execution_count": 23,
   "metadata": {},
   "outputs": [
    {
     "data": {
      "text/plain": [
       "Index(['Rider Id', 'Order No', 'User Id', 'Vehicle Type', 'Platform Type',\n",
       "       'Personal or Business', 'Placement - Day of Month',\n",
       "       'Placement - Weekday (Mo = 1)', 'Placement - Time',\n",
       "       'Confirmation - Day of Month', 'Confirmation - Weekday (Mo = 1)',\n",
       "       'Confirmation - Time', 'Arrival at Pickup - Day of Month',\n",
       "       'Arrival at Pickup - Weekday (Mo = 1)', 'Arrival at Pickup - Time',\n",
       "       'Pickup - Day of Month', 'Pickup - Weekday (Mo = 1)', 'Pickup - Time',\n",
       "       'Arrival at Destination - Day of Month',\n",
       "       'Arrival at Destination - Weekday (Mo = 1)',\n",
       "       'Arrival at Destination - Time', 'Distance (KM)', 'Temperature',\n",
       "       'Precipitation in millimeters', 'Pickup Lat', 'Pickup Long',\n",
       "       'Destination Lat', 'Destination Long', 'Time from Pickup to Arrival',\n",
       "       'Coordinate Distance (KM)', 'Pickup_Hour', 'Average Speed',\n",
       "       'No_Of_Orders', 'Age', 'Average_Rating', 'No_of_Ratings',\n",
       "       'Rider Median Speed', 'Rider Average Weekly Orders'],\n",
       "      dtype='object')"
      ]
     },
     "execution_count": 23,
     "metadata": {},
     "output_type": "execute_result"
    }
   ],
   "source": [
    "TRAIN.columns"
   ]
  },
  {
   "cell_type": "code",
   "execution_count": 119,
   "metadata": {},
   "outputs": [],
   "source": [
    "X=get_features(TRAIN)\n",
    "y=TRAIN['Time from Pickup to Arrival']\n",
    "    \n",
    "RESULTS = {}\n",
    "scoring_functions = {\"mse\": \"neg_mean_squared_error\", \"mae\": \"neg_mean_absolute_error\", \"r2\": \"r2\"}\n",
    "def evaluate_model(estimator):\n",
    "    cv_results = cross_validate(estimator, X, y, scoring=scoring_functions, n_jobs=-1, cv=3, return_train_score=True)\n",
    "    return pd.DataFrame(cv_results).abs().mean().to_dict()"
   ]
  },
  {
   "cell_type": "code",
   "execution_count": 132,
   "metadata": {},
   "outputs": [],
   "source": [
    "def disp_evaluation(RESULTS):\n",
    "    display=pd.DataFrame.from_dict(RESULTS).T\n",
    "    display['test_mse']=display['test_mse']**0.5\n",
    "    display['train_mse']=display['train_mse']**0.5\n",
    "    display=display.rename(columns={\"test_mse\":\"test_rmse\", \"train_mse\":\"train_rmse\"})\n",
    "    return display.sort_values(by=\"test_rmse\")"
   ]
  },
  {
   "cell_type": "code",
   "execution_count": 120,
   "metadata": {},
   "outputs": [],
   "source": [
    "RESULTS[\"linear_reg\"] = evaluate_model(lrmodel)\n",
    "RESULTS[\"tree\"]=evaluate_model(treemodel)\n",
    "RESULTS[\"bagging_random_tree\"] = evaluate_model(xrtmodel)\n",
    "RESULTS[\"adaboost\"] = evaluate_model(abmodel)\n",
    "RESULTS[\"lasso\"] = evaluate_model(lassomodel)\n",
    "RESULTS[\"ridge\"] = evaluate_model(ridgemodel)\n",
    "RESULTS[\"elastic net\"] = evaluate_model(enmodel)"
   ]
  },
  {
   "cell_type": "code",
   "execution_count": 133,
   "metadata": {},
   "outputs": [
    {
     "data": {
      "text/html": [
       "<div>\n",
       "<style scoped>\n",
       "    .dataframe tbody tr th:only-of-type {\n",
       "        vertical-align: middle;\n",
       "    }\n",
       "\n",
       "    .dataframe tbody tr th {\n",
       "        vertical-align: top;\n",
       "    }\n",
       "\n",
       "    .dataframe thead th {\n",
       "        text-align: right;\n",
       "    }\n",
       "</style>\n",
       "<table border=\"1\" class=\"dataframe\">\n",
       "  <thead>\n",
       "    <tr style=\"text-align: right;\">\n",
       "      <th></th>\n",
       "      <th>fit_time</th>\n",
       "      <th>score_time</th>\n",
       "      <th>test_rmse</th>\n",
       "      <th>train_rmse</th>\n",
       "      <th>test_mae</th>\n",
       "      <th>train_mae</th>\n",
       "      <th>test_r2</th>\n",
       "      <th>train_r2</th>\n",
       "    </tr>\n",
       "  </thead>\n",
       "  <tbody>\n",
       "    <tr>\n",
       "      <th>bagging_random_tree</th>\n",
       "      <td>0.887552</td>\n",
       "      <td>0.279768</td>\n",
       "      <td>526.604080</td>\n",
       "      <td>509.884560</td>\n",
       "      <td>377.137402</td>\n",
       "      <td>367.569992</td>\n",
       "      <td>0.618298</td>\n",
       "      <td>0.642455</td>\n",
       "    </tr>\n",
       "    <tr>\n",
       "      <th>ridge</th>\n",
       "      <td>0.008989</td>\n",
       "      <td>0.004640</td>\n",
       "      <td>527.927816</td>\n",
       "      <td>526.792615</td>\n",
       "      <td>374.427394</td>\n",
       "      <td>373.605721</td>\n",
       "      <td>0.616501</td>\n",
       "      <td>0.618406</td>\n",
       "    </tr>\n",
       "    <tr>\n",
       "      <th>linear_reg</th>\n",
       "      <td>0.014296</td>\n",
       "      <td>0.006980</td>\n",
       "      <td>527.959408</td>\n",
       "      <td>526.791265</td>\n",
       "      <td>374.470937</td>\n",
       "      <td>373.627143</td>\n",
       "      <td>0.616455</td>\n",
       "      <td>0.618408</td>\n",
       "    </tr>\n",
       "    <tr>\n",
       "      <th>lasso</th>\n",
       "      <td>0.018285</td>\n",
       "      <td>0.006648</td>\n",
       "      <td>527.980768</td>\n",
       "      <td>527.376771</td>\n",
       "      <td>374.091992</td>\n",
       "      <td>373.617360</td>\n",
       "      <td>0.616427</td>\n",
       "      <td>0.617558</td>\n",
       "    </tr>\n",
       "    <tr>\n",
       "      <th>elastic net</th>\n",
       "      <td>0.014961</td>\n",
       "      <td>0.003989</td>\n",
       "      <td>531.386564</td>\n",
       "      <td>531.000957</td>\n",
       "      <td>376.946883</td>\n",
       "      <td>376.580973</td>\n",
       "      <td>0.611395</td>\n",
       "      <td>0.612274</td>\n",
       "    </tr>\n",
       "    <tr>\n",
       "      <th>tree</th>\n",
       "      <td>0.053854</td>\n",
       "      <td>0.005319</td>\n",
       "      <td>535.240358</td>\n",
       "      <td>509.265461</td>\n",
       "      <td>378.823796</td>\n",
       "      <td>362.979688</td>\n",
       "      <td>0.605590</td>\n",
       "      <td>0.643314</td>\n",
       "    </tr>\n",
       "    <tr>\n",
       "      <th>adaboost</th>\n",
       "      <td>1.152313</td>\n",
       "      <td>0.100231</td>\n",
       "      <td>658.214301</td>\n",
       "      <td>653.342897</td>\n",
       "      <td>535.847462</td>\n",
       "      <td>534.132117</td>\n",
       "      <td>0.401311</td>\n",
       "      <td>0.413939</td>\n",
       "    </tr>\n",
       "  </tbody>\n",
       "</table>\n",
       "</div>"
      ],
      "text/plain": [
       "                     fit_time  score_time   test_rmse  train_rmse    test_mae  \\\n",
       "bagging_random_tree  0.887552    0.279768  526.604080  509.884560  377.137402   \n",
       "ridge                0.008989    0.004640  527.927816  526.792615  374.427394   \n",
       "linear_reg           0.014296    0.006980  527.959408  526.791265  374.470937   \n",
       "lasso                0.018285    0.006648  527.980768  527.376771  374.091992   \n",
       "elastic net          0.014961    0.003989  531.386564  531.000957  376.946883   \n",
       "tree                 0.053854    0.005319  535.240358  509.265461  378.823796   \n",
       "adaboost             1.152313    0.100231  658.214301  653.342897  535.847462   \n",
       "\n",
       "                      train_mae   test_r2  train_r2  \n",
       "bagging_random_tree  367.569992  0.618298  0.642455  \n",
       "ridge                373.605721  0.616501  0.618406  \n",
       "linear_reg           373.627143  0.616455  0.618408  \n",
       "lasso                373.617360  0.616427  0.617558  \n",
       "elastic net          376.580973  0.611395  0.612274  \n",
       "tree                 362.979688  0.605590  0.643314  \n",
       "adaboost             534.132117  0.401311  0.413939  "
      ]
     },
     "execution_count": 133,
     "metadata": {},
     "output_type": "execute_result"
    }
   ],
   "source": [
    "disp_evaluation(RESULTS)"
   ]
  },
  {
   "cell_type": "code",
   "execution_count": 139,
   "metadata": {},
   "outputs": [],
   "source": [
    "estimator_stacking = StackingRegressor(\n",
    "    regressors=[\n",
    "        treemodel,\n",
    "        ridgemodel\n",
    "    ], \n",
    "    meta_regressor=lrmodel)\n",
    "RESULTS[\"stacking\"]  = evaluate_model(estimator_stacking)"
   ]
  },
  {
   "cell_type": "code",
   "execution_count": 140,
   "metadata": {},
   "outputs": [
    {
     "data": {
      "text/html": [
       "<div>\n",
       "<style scoped>\n",
       "    .dataframe tbody tr th:only-of-type {\n",
       "        vertical-align: middle;\n",
       "    }\n",
       "\n",
       "    .dataframe tbody tr th {\n",
       "        vertical-align: top;\n",
       "    }\n",
       "\n",
       "    .dataframe thead th {\n",
       "        text-align: right;\n",
       "    }\n",
       "</style>\n",
       "<table border=\"1\" class=\"dataframe\">\n",
       "  <thead>\n",
       "    <tr style=\"text-align: right;\">\n",
       "      <th></th>\n",
       "      <th>fit_time</th>\n",
       "      <th>score_time</th>\n",
       "      <th>test_rmse</th>\n",
       "      <th>train_rmse</th>\n",
       "      <th>test_mae</th>\n",
       "      <th>train_mae</th>\n",
       "      <th>test_r2</th>\n",
       "      <th>train_r2</th>\n",
       "    </tr>\n",
       "  </thead>\n",
       "  <tbody>\n",
       "    <tr>\n",
       "      <th>stacking</th>\n",
       "      <td>0.139848</td>\n",
       "      <td>0.010638</td>\n",
       "      <td>526.067179</td>\n",
       "      <td>506.486494</td>\n",
       "      <td>371.655428</td>\n",
       "      <td>359.524360</td>\n",
       "      <td>0.618991</td>\n",
       "      <td>0.647214</td>\n",
       "    </tr>\n",
       "    <tr>\n",
       "      <th>bagging_random_tree</th>\n",
       "      <td>0.887552</td>\n",
       "      <td>0.279768</td>\n",
       "      <td>526.604080</td>\n",
       "      <td>509.884560</td>\n",
       "      <td>377.137402</td>\n",
       "      <td>367.569992</td>\n",
       "      <td>0.618298</td>\n",
       "      <td>0.642455</td>\n",
       "    </tr>\n",
       "    <tr>\n",
       "      <th>ridge</th>\n",
       "      <td>0.008989</td>\n",
       "      <td>0.004640</td>\n",
       "      <td>527.927816</td>\n",
       "      <td>526.792615</td>\n",
       "      <td>374.427394</td>\n",
       "      <td>373.605721</td>\n",
       "      <td>0.616501</td>\n",
       "      <td>0.618406</td>\n",
       "    </tr>\n",
       "    <tr>\n",
       "      <th>linear_reg</th>\n",
       "      <td>0.014296</td>\n",
       "      <td>0.006980</td>\n",
       "      <td>527.959408</td>\n",
       "      <td>526.791265</td>\n",
       "      <td>374.470937</td>\n",
       "      <td>373.627143</td>\n",
       "      <td>0.616455</td>\n",
       "      <td>0.618408</td>\n",
       "    </tr>\n",
       "    <tr>\n",
       "      <th>lasso</th>\n",
       "      <td>0.018285</td>\n",
       "      <td>0.006648</td>\n",
       "      <td>527.980768</td>\n",
       "      <td>527.376771</td>\n",
       "      <td>374.091992</td>\n",
       "      <td>373.617360</td>\n",
       "      <td>0.616427</td>\n",
       "      <td>0.617558</td>\n",
       "    </tr>\n",
       "    <tr>\n",
       "      <th>elastic net</th>\n",
       "      <td>0.014961</td>\n",
       "      <td>0.003989</td>\n",
       "      <td>531.386564</td>\n",
       "      <td>531.000957</td>\n",
       "      <td>376.946883</td>\n",
       "      <td>376.580973</td>\n",
       "      <td>0.611395</td>\n",
       "      <td>0.612274</td>\n",
       "    </tr>\n",
       "    <tr>\n",
       "      <th>tree</th>\n",
       "      <td>0.053854</td>\n",
       "      <td>0.005319</td>\n",
       "      <td>535.240358</td>\n",
       "      <td>509.265461</td>\n",
       "      <td>378.823796</td>\n",
       "      <td>362.979688</td>\n",
       "      <td>0.605590</td>\n",
       "      <td>0.643314</td>\n",
       "    </tr>\n",
       "    <tr>\n",
       "      <th>adaboost</th>\n",
       "      <td>1.152313</td>\n",
       "      <td>0.100231</td>\n",
       "      <td>658.214301</td>\n",
       "      <td>653.342897</td>\n",
       "      <td>535.847462</td>\n",
       "      <td>534.132117</td>\n",
       "      <td>0.401311</td>\n",
       "      <td>0.413939</td>\n",
       "    </tr>\n",
       "  </tbody>\n",
       "</table>\n",
       "</div>"
      ],
      "text/plain": [
       "                     fit_time  score_time   test_rmse  train_rmse    test_mae  \\\n",
       "stacking             0.139848    0.010638  526.067179  506.486494  371.655428   \n",
       "bagging_random_tree  0.887552    0.279768  526.604080  509.884560  377.137402   \n",
       "ridge                0.008989    0.004640  527.927816  526.792615  374.427394   \n",
       "linear_reg           0.014296    0.006980  527.959408  526.791265  374.470937   \n",
       "lasso                0.018285    0.006648  527.980768  527.376771  374.091992   \n",
       "elastic net          0.014961    0.003989  531.386564  531.000957  376.946883   \n",
       "tree                 0.053854    0.005319  535.240358  509.265461  378.823796   \n",
       "adaboost             1.152313    0.100231  658.214301  653.342897  535.847462   \n",
       "\n",
       "                      train_mae   test_r2  train_r2  \n",
       "stacking             359.524360  0.618991  0.647214  \n",
       "bagging_random_tree  367.569992  0.618298  0.642455  \n",
       "ridge                373.605721  0.616501  0.618406  \n",
       "linear_reg           373.627143  0.616455  0.618408  \n",
       "lasso                373.617360  0.616427  0.617558  \n",
       "elastic net          376.580973  0.611395  0.612274  \n",
       "tree                 362.979688  0.605590  0.643314  \n",
       "adaboost             534.132117  0.401311  0.413939  "
      ]
     },
     "execution_count": 140,
     "metadata": {},
     "output_type": "execute_result"
    }
   ],
   "source": [
    "disp_evaluation(RESULTS)"
   ]
  },
  {
   "cell_type": "markdown",
   "metadata": {},
   "source": [
    "### Tuning"
   ]
  },
  {
   "cell_type": "code",
   "execution_count": 29,
   "metadata": {},
   "outputs": [],
   "source": [
    "search_parameters_space = {'max_depth':range(1, 10), 'min_impurity_split':list(np.arange(0, 0.5, 0.01))}"
   ]
  },
  {
   "cell_type": "code",
   "execution_count": 30,
   "metadata": {},
   "outputs": [],
   "source": [
    "random_search = RandomizedSearchCV(estimator=treemodel, param_distributions=search_parameters_space, scoring=\"neg_mean_absolute_error\", n_jobs=-1, n_iter=50)"
   ]
  },
  {
   "cell_type": "code",
   "execution_count": 31,
   "metadata": {},
   "outputs": [
    {
     "name": "stderr",
     "output_type": "stream",
     "text": [
      "C:\\Users\\User\\anaconda3\\lib\\site-packages\\sklearn\\model_selection\\_split.py:1978: FutureWarning: The default value of cv will change from 3 to 5 in version 0.22. Specify it explicitly to silence this warning.\n",
      "  warnings.warn(CV_WARNING, FutureWarning)\n",
      "C:\\Users\\User\\anaconda3\\lib\\site-packages\\sklearn\\tree\\tree.py:297: DeprecationWarning: The min_impurity_split parameter is deprecated. Its default value will change from 1e-7 to 0 in version 0.23, and it will be removed in 0.25. Use the min_impurity_decrease parameter instead.\n",
      "  DeprecationWarning)\n"
     ]
    },
    {
     "data": {
      "text/plain": [
       "(-378.8236309857109, {'min_impurity_split': 0.15, 'max_depth': 6})"
      ]
     },
     "execution_count": 31,
     "metadata": {},
     "output_type": "execute_result"
    }
   ],
   "source": [
    "random_search.fit(X, y)\n",
    "random_search.best_score_, random_search.best_params_"
   ]
  },
  {
   "cell_type": "code",
   "execution_count": 32,
   "metadata": {},
   "outputs": [],
   "source": [
    "random_search = RandomizedSearchCV(estimator=ExtraTreeRegressor(), param_distributions=search_parameters_space, scoring=\"neg_mean_absolute_error\", n_jobs=-1, n_iter=50)"
   ]
  },
  {
   "cell_type": "code",
   "execution_count": 33,
   "metadata": {},
   "outputs": [
    {
     "name": "stderr",
     "output_type": "stream",
     "text": [
      "C:\\Users\\User\\anaconda3\\lib\\site-packages\\sklearn\\model_selection\\_split.py:1978: FutureWarning: The default value of cv will change from 3 to 5 in version 0.22. Specify it explicitly to silence this warning.\n",
      "  warnings.warn(CV_WARNING, FutureWarning)\n",
      "C:\\Users\\User\\anaconda3\\lib\\site-packages\\sklearn\\tree\\tree.py:297: DeprecationWarning: The min_impurity_split parameter is deprecated. Its default value will change from 1e-7 to 0 in version 0.23, and it will be removed in 0.25. Use the min_impurity_decrease parameter instead.\n",
      "  DeprecationWarning)\n"
     ]
    },
    {
     "data": {
      "text/plain": [
       "(-387.2110754703425, {'min_impurity_split': 0.15, 'max_depth': 7})"
      ]
     },
     "execution_count": 33,
     "metadata": {},
     "output_type": "execute_result"
    }
   ],
   "source": [
    "random_search.fit(X, y)\n",
    "random_search.best_score_, random_search.best_params_"
   ]
  },
  {
   "cell_type": "markdown",
   "metadata": {},
   "source": [
    "### Training on Train.csv"
   ]
  },
  {
   "cell_type": "code",
   "execution_count": 141,
   "metadata": {},
   "outputs": [],
   "source": [
    "X=get_features(TRAIN)\n",
    "y=TRAIN['Time from Pickup to Arrival']"
   ]
  },
  {
   "cell_type": "code",
   "execution_count": 142,
   "metadata": {},
   "outputs": [
    {
     "name": "stderr",
     "output_type": "stream",
     "text": [
      "C:\\Users\\User\\anaconda3\\lib\\site-packages\\sklearn\\tree\\tree.py:297: DeprecationWarning: The min_impurity_split parameter is deprecated. Its default value will change from 1e-7 to 0 in version 0.23, and it will be removed in 0.25. Use the min_impurity_decrease parameter instead.\n",
      "  DeprecationWarning)\n"
     ]
    },
    {
     "data": {
      "text/plain": [
       "StackingRegressor(meta_regressor=LinearRegression(copy_X=True,\n",
       "                                                  fit_intercept=True,\n",
       "                                                  n_jobs=None,\n",
       "                                                  normalize=False),\n",
       "                  refit=True,\n",
       "                  regressors=[DecisionTreeRegressor(criterion='mse',\n",
       "                                                    max_depth=6,\n",
       "                                                    max_features=None,\n",
       "                                                    max_leaf_nodes=None,\n",
       "                                                    min_impurity_decrease=0.0,\n",
       "                                                    min_impurity_split=0.15,\n",
       "                                                    min_samples_leaf=1,\n",
       "                                                    min_samples_split=2,\n",
       "                                                    min_weight_fraction_leaf=0.0,\n",
       "                                                    presort=False,\n",
       "                                                    random_state=42,\n",
       "                                                    splitter='best'),\n",
       "                              Ridge(alpha=1.0, copy_X=True, fit_intercept=True,\n",
       "                                    max_iter=None, normalize=False,\n",
       "                                    random_state=42, solver='auto',\n",
       "                                    tol=0.001)],\n",
       "                  store_train_meta_features=False,\n",
       "                  use_features_in_secondary=False, verbose=0)"
      ]
     },
     "execution_count": 142,
     "metadata": {},
     "output_type": "execute_result"
    }
   ],
   "source": [
    "estimator_stacking.fit(X, y)"
   ]
  },
  {
   "cell_type": "markdown",
   "metadata": {},
   "source": [
    "### Predicting on Test.csv"
   ]
  },
  {
   "cell_type": "code",
   "execution_count": 144,
   "metadata": {},
   "outputs": [],
   "source": [
    "riders=riders.sort_values(by='Rider Id').reset_index()\n",
    "riders=riders.drop(columns='index')"
   ]
  },
  {
   "cell_type": "code",
   "execution_count": 145,
   "metadata": {},
   "outputs": [],
   "source": [
    "riders['Rider Median Speed']=TRAIN['Rider Median Speed']\n",
    "riders['Rider Average Weekly Orders']=TRAIN['Rider Average Weekly Orders']"
   ]
  },
  {
   "cell_type": "code",
   "execution_count": 146,
   "metadata": {},
   "outputs": [],
   "source": [
    "TEST=calc_coordDist(test)\n",
    "TEST=get_hours(TEST)\n",
    "TEST['index']=TEST.index\n",
    "TEST=join_riderData(TEST)\n",
    "TEST=balance_newriderRating(TEST)\n",
    "TEST=TEST.sort_values(by='index').reset_index()"
   ]
  },
  {
   "cell_type": "code",
   "execution_count": 147,
   "metadata": {},
   "outputs": [],
   "source": [
    "X_test=get_features(TEST)\n",
    "results=pd.DataFrame(TEST['Order No'])\n",
    "results['Time from Pickup to Arrival']=estimator_stacking.predict(X_test)\n",
    "results['Time from Pickup to Arrival']=results['Time from Pickup to Arrival'].apply(lambda x: int(x))\n",
    "result=results.rename(columns={'Order No':'Order_No'})"
   ]
  },
  {
   "cell_type": "code",
   "execution_count": 149,
   "metadata": {},
   "outputs": [],
   "source": [
    "results.to_csv(\"sendylogisticsproject/Results.csv\", index=False)"
   ]
  },
  {
   "cell_type": "code",
   "execution_count": null,
   "metadata": {},
   "outputs": [],
   "source": []
  }
 ],
 "metadata": {
  "kernelspec": {
   "display_name": "Python 3",
   "language": "python",
   "name": "python3"
  },
  "language_info": {
   "codemirror_mode": {
    "name": "ipython",
    "version": 3
   },
   "file_extension": ".py",
   "mimetype": "text/x-python",
   "name": "python",
   "nbconvert_exporter": "python",
   "pygments_lexer": "ipython3",
   "version": "3.7.6"
  }
 },
 "nbformat": 4,
 "nbformat_minor": 4
}
