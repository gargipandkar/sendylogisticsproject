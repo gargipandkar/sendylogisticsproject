{
 "cells": [
  {
   "cell_type": "code",
   "execution_count": 2,
   "metadata": {},
   "outputs": [],
   "source": [
    "import pandas as pd\n",
    "import numpy as np\n",
    "import seaborn as sns\n",
    "import matplotlib.pyplot as plt"
   ]
  },
  {
   "cell_type": "code",
   "execution_count": 3,
   "metadata": {},
   "outputs": [],
   "source": [
    "train = pd.read_csv(r\"C:\\Users\\User\\Desktop\\iXperience\\Sendy Project\\Train.csv\")\n",
    "test = pd.read_csv(r\"C:\\Users\\User\\Desktop\\iXperience\\Sendy Project\\Test.csv\")\n",
    "riders = pd.read_csv(r\"C:\\Users\\User\\Desktop\\iXperience\\Sendy Project\\Riders.csv\")\n",
    "submission = pd.read_csv(r\"C:\\Users\\User\\Desktop\\iXperience\\Sendy Project\\SampleSubmission.csv\")"
   ]
  },
  {
   "cell_type": "code",
   "execution_count": 4,
   "metadata": {},
   "outputs": [
    {
     "data": {
      "text/plain": [
       "Index(['Order No', 'User Id', 'Vehicle Type', 'Platform Type',\n",
       "       'Personal or Business', 'Placement - Day of Month',\n",
       "       'Placement - Weekday (Mo = 1)', 'Placement - Time',\n",
       "       'Confirmation - Day of Month', 'Confirmation - Weekday (Mo = 1)',\n",
       "       'Confirmation - Time', 'Arrival at Pickup - Day of Month',\n",
       "       'Arrival at Pickup - Weekday (Mo = 1)', 'Arrival at Pickup - Time',\n",
       "       'Pickup - Day of Month', 'Pickup - Weekday (Mo = 1)', 'Pickup - Time',\n",
       "       'Arrival at Destination - Day of Month',\n",
       "       'Arrival at Destination - Weekday (Mo = 1)',\n",
       "       'Arrival at Destination - Time', 'Distance (KM)', 'Temperature',\n",
       "       'Precipitation in millimeters', 'Pickup Lat', 'Pickup Long',\n",
       "       'Destination Lat', 'Destination Long', 'Rider Id',\n",
       "       'Time from Pickup to Arrival'],\n",
       "      dtype='object')"
      ]
     },
     "execution_count": 4,
     "metadata": {},
     "output_type": "execute_result"
    }
   ],
   "source": [
    "train.keys()"
   ]
  },
  {
   "cell_type": "code",
   "execution_count": 32,
   "metadata": {},
   "outputs": [
    {
     "data": {
      "text/plain": [
       "Index(['Order No', 'User Id', 'Vehicle Type', 'Platform Type',\n",
       "       'Personal or Business', 'Placement - Day of Month',\n",
       "       'Placement - Weekday (Mo = 1)', 'Placement - Time',\n",
       "       'Confirmation - Day of Month', 'Confirmation - Weekday (Mo = 1)',\n",
       "       'Confirmation - Time', 'Arrival at Pickup - Day of Month',\n",
       "       'Arrival at Pickup - Weekday (Mo = 1)', 'Arrival at Pickup - Time',\n",
       "       'Pickup - Day of Month', 'Pickup - Weekday (Mo = 1)', 'Pickup - Time',\n",
       "       'Arrival at Destination - Day of Month',\n",
       "       'Arrival at Destination - Weekday (Mo = 1)',\n",
       "       'Arrival at Destination - Time', 'Distance (KM)', 'Temperature',\n",
       "       'Precipitation in millimeters', 'Pickup Lat', 'Pickup Long',\n",
       "       'Destination Lat', 'Destination Long', 'Rider Id',\n",
       "       'Time from Pickup to Arrival', 'Placement - Hours', 'Placement - Mins',\n",
       "       'Confirmation - Hours', 'Confirmation - Mins', 'Pickup - Hours',\n",
       "       'Pickup - Mins', 'Arrival at Pickup - Hours',\n",
       "       'Arrival at Pickup - Mins', 'Arrival at Destination - Hours',\n",
       "       'Arrival at Destination - Mins'],\n",
       "      dtype='object')"
      ]
     },
     "execution_count": 32,
     "metadata": {},
     "output_type": "execute_result"
    }
   ],
   "source": [
    "#Changing Date and Time columns to Date Time Type\n",
    "train['Placement - Time'] = pd.to_datetime(train['Placement - Time'])\n",
    "train['Confirmation - Time'] = pd.to_datetime(train['Confirmation - Time'])\n",
    "train['Pickup - Time'] = pd.to_datetime(train['Pickup - Time'])\n",
    "train['Arrival at Pickup - Time'] = pd.to_datetime(train['Arrival at Pickup - Time'])\n",
    "train['Arrival at Destination - Time'] = pd.to_datetime(train['Arrival at Destination - Time'])\n",
    "train.dtypes\n",
    "\n",
    "#Extracting hours and mins from time\n",
    "train['Placement - Hours'] = train['Placement - Time'].dt.hour\n",
    "train['Placement - Mins'] = train['Placement - Time'].dt.minute\n",
    "train['Confirmation - Hours'] = train['Confirmation - Time'].dt.hour\n",
    "train['Confirmation - Mins'] = train['Confirmation - Time'].dt.minute\n",
    "train['Pickup - Hours'] = train['Pickup - Time'].dt.hour\n",
    "train['Pickup - Mins'] = train['Pickup - Time'].dt.minute\n",
    "train['Arrival at Pickup - Hours'] = train['Arrival at Pickup - Time'].dt.hour\n",
    "train['Arrival at Pickup - Mins'] = train['Arrival at Pickup - Time'].dt.minute\n",
    "train['Arrival at Destination - Hours'] = train['Arrival at Destination - Time'].dt.hour\n",
    "train['Arrival at Destination - Mins'] = train['Arrival at Destination - Time'].dt.minute\n",
    "\n",
    "train.columns"
   ]
  },
  {
   "cell_type": "code",
   "execution_count": 7,
   "metadata": {},
   "outputs": [],
   "source": [
    "#Preping for Modeling\n",
    "\n",
    "from sklearn.linear_model import LinearRegression \n",
    "from sklearn.model_selection import train_test_split\n",
    "from sklearn.preprocessing import OneHotEncoder \n",
    "from sklearn import metrics\n",
    "from sklearn.model_selection import cross_validate"
   ]
  },
  {
   "cell_type": "code",
   "execution_count": 38,
   "metadata": {},
   "outputs": [
    {
     "name": "stdout",
     "output_type": "stream",
     "text": [
      "x_train (16960, 10)\n",
      "y_train (16960,)\n",
      "x_test (4241, 10)\n",
      "y_test (4241,)\n"
     ]
    }
   ],
   "source": [
    "#Creating train and test set\n",
    "x = train[['Placement - Weekday (Mo = 1)', 'Confirmation - Day of Month',\n",
    "           'Confirmation - Weekday (Mo = 1)', 'Arrival at Pickup - Day of Month',\n",
    "           'Arrival at Pickup - Weekday (Mo = 1)','Pickup - Day of Month',\n",
    "           'Pickup - Weekday (Mo = 1)', 'Arrival at Destination - Day of Month',\n",
    "           'Arrival at Destination - Weekday (Mo = 1)','Distance (KM)']]\n",
    "y = train['Arrival at Destination - Hours']\n",
    "\n",
    "x.head()\n",
    "y.head()\n",
    "\n",
    "#from sklearn.model_selection import train_test_split\n",
    "x_train, x_test, y_train, y_test = train_test_split(x,y,test_size=0.2, random_state= 42)\n",
    "\n",
    "print('x_train', x_train.shape)\n",
    "print('y_train', y_train.shape)\n",
    "print('x_test',  x_test.shape)\n",
    "print('y_test',  y_test.shape)"
   ]
  },
  {
   "cell_type": "code",
   "execution_count": 28,
   "metadata": {},
   "outputs": [
    {
     "data": {
      "text/plain": [
       "LinearRegression(copy_X=True, fit_intercept=True, n_jobs=None, normalize=False)"
      ]
     },
     "execution_count": 28,
     "metadata": {},
     "output_type": "execute_result"
    }
   ],
   "source": [
    "model = LinearRegression()\n",
    "model"
   ]
  },
  {
   "cell_type": "code",
   "execution_count": 41,
   "metadata": {},
   "outputs": [
    {
     "data": {
      "text/plain": [
       "array([-3.58545514e-01, -1.03981410e+08, -3.37170416e+10,  3.89260184e+07,\n",
       "       -3.37195048e+10,  3.25296001e+07, -3.37195048e+10,  3.25257914e+07,\n",
       "        1.01156051e+11,  1.61419870e-02])"
      ]
     },
     "execution_count": 41,
     "metadata": {},
     "output_type": "execute_result"
    }
   ],
   "source": [
    "model.fit(X=x_train, y=y_train)\n",
    "model.intercept_\n",
    "model.coef_"
   ]
  },
  {
   "cell_type": "code",
   "execution_count": 43,
   "metadata": {},
   "outputs": [
    {
     "data": {
      "text/plain": [
       "array([13.34065135, 13.36478903, 13.31157877, ..., 13.23654463,\n",
       "       13.35623863, 13.22022822])"
      ]
     },
     "execution_count": 43,
     "metadata": {},
     "output_type": "execute_result"
    }
   ],
   "source": [
    "#Using model to predict \n",
    "predictions = model.predict(x_test)\n",
    "predictions"
   ]
  },
  {
   "cell_type": "code",
   "execution_count": 46,
   "metadata": {},
   "outputs": [
    {
     "data": {
      "text/plain": [
       "<seaborn.axisgrid.FacetGrid at 0x219334bb588>"
      ]
     },
     "execution_count": 46,
     "metadata": {},
     "output_type": "execute_result"
    },
    {
     "data": {
      "image/png": "[encoded data removed]",
      "text/plain": [
       "<Figure size 360x360 with 1 Axes>"
      ]
     },
     "metadata": {
      "needs_background": "light"
     },
     "output_type": "display_data"
    }
   ],
   "source": [
    "#comapring prediction to test\n",
    "x = x_test.reset_index().copy()\n",
    "x[\"target\"] = y_test.tolist()\n",
    "x[\"prediction\"] = predictions\n",
    "x.head()\n",
    "\n",
    "sns.relplot(x=\"target\", y=\"prediction\", data=x, kind=\"scatter\")"
   ]
  },
  {
   "cell_type": "code",
   "execution_count": null,
   "metadata": {},
   "outputs": [],
   "source": []
  },
  {
   "cell_type": "code",
   "execution_count": null,
   "metadata": {},
   "outputs": [],
   "source": []
  }
 ],
 "metadata": {
  "kernelspec": {
   "display_name": "Python 3",
   "language": "python",
   "name": "python3"
  },
  "language_info": {
   "codemirror_mode": {
    "name": "ipython",
    "version": 3
   },
   "file_extension": ".py",
   "mimetype": "text/x-python",
   "name": "python",
   "nbconvert_exporter": "python",
   "pygments_lexer": "ipython3",
   "version": "3.7.6"
  }
 },
 "nbformat": 4,
 "nbformat_minor": 4
}
